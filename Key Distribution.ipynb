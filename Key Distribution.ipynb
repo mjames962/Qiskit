{
 "cells": [
  {
   "cell_type": "markdown",
   "id": "89864293",
   "metadata": {},
   "source": [
    "# Quantum Key Distribution\n",
    "We want to be able to distrubute cryptographic keys across an untrusted channel such that only the sender, Alice, and the recipient, Bob, are capable of using them for confidentiality and integrity purposes. It is always the possibility that a malicious actor, Eve, will intercept messages and attempt to disrupt communication. Quantum key distribution is a protocol for key exchange in which the quantum states can inform us if the information has been observed during transit. The no-cloning theorem also tells us that quantum states cannot be copied. Therefore, by using this protocol we can guarantee the integrity of the keys.\n",
    "\n",
    "## Imports"
   ]
  },
  {
   "cell_type": "code",
   "execution_count": 1,
   "id": "29a70cab",
   "metadata": {},
   "outputs": [],
   "source": [
    "from qiskit import *\n",
    "from qiskit.visualization import plot_histogram, plot_bloch_multivector\n",
    "import numpy as np\n",
    "from numpy.random import randint"
   ]
  },
  {
   "cell_type": "markdown",
   "id": "87b9bcb5",
   "metadata": {},
   "source": [
    "## Encoding the Message\n",
    "The bits being sent across the untrusted channel will be encoded in either the computational (Z) basis or the X basis. "
   ]
  },
  {
   "cell_type": "code",
   "execution_count": 2,
   "id": "da9295b0",
   "metadata": {},
   "outputs": [],
   "source": [
    "def encode_message(bits, bases):\n",
    "    message = []\n",
    "    \n",
    "    for i in range(n):\n",
    "        qc = QuantumCircuit(1,1)\n",
    "        if bases[i] == 0: # Prepare qubit in Z-basis\n",
    "            if bits[i] == 0:\n",
    "                pass \n",
    "            else:\n",
    "                qc.x(0)\n",
    "        else: # Prepare qubit in X-basis\n",
    "            if bits[i] == 0:\n",
    "                qc.h(0)\n",
    "            else:\n",
    "                qc.x(0)\n",
    "                qc.h(0)\n",
    "        \n",
    "        \n",
    "        qc.barrier()\n",
    "        \n",
    "        message.append(qc)\n",
    "    \n",
    "    return message"
   ]
  },
  {
   "cell_type": "code",
   "execution_count": 6,
   "id": "8b670d8d",
   "metadata": {},
   "outputs": [
    {
     "data": {
      "image/png": "[encoded data removed]",
      "text/plain": [
       "<Figure size 193.726x144.48 with 1 Axes>"
      ]
     },
     "execution_count": 6,
     "metadata": {},
     "output_type": "execute_result"
    }
   ],
   "source": [
    "np.random.seed(seed=0)\n",
    "n = 100\n",
    "\n",
    "alice_bits = randint(2, size=n)\n",
    "alice_bases = randint(2, size=n)\n",
    "\n",
    "message = encode_message(alice_bits, alice_bases)\n",
    "\n",
    "message[0].draw(output='mpl')"
   ]
  },
  {
   "cell_type": "markdown",
   "id": "81968891",
   "metadata": {},
   "source": [
    "## Measuring the Message\n",
    "When measuring the message we will have to decide whether to measure each bit in the Z or X basis. The type of measurement will be chosen randomly."
   ]
  },
  {
   "cell_type": "code",
   "execution_count": 8,
   "id": "de8ddbe1",
   "metadata": {},
   "outputs": [],
   "source": [
    "def measure_message(message, bases):\n",
    "    \n",
    "    measurements = []\n",
    "    \n",
    "    for q in range(n):\n",
    "        if bases[q] == 0: # measuring in Z-basis\n",
    "            message[q].measure(0,0)\n",
    "        if bases[q] == 1: # measuring in X-basis\n",
    "            message[q].h(0)\n",
    "            message[q].measure(0,0)\n",
    "        \n",
    "        aer_sim = Aer.get_backend('aer_simulator')\n",
    "        qobj = assemble(message[q], shots=1, memory=True)\n",
    "        result = aer_sim.run(qobj).result()\n",
    "        \n",
    "        measured_bit = int(result.get_memory()[0])\n",
    "        measurements.append(measured_bit)\n",
    "    \n",
    "    return measurements"
   ]
  },
  {
   "cell_type": "code",
   "execution_count": 10,
   "id": "ba1edd6b",
   "metadata": {},
   "outputs": [
    {
     "data": {
      "image/png": "[encoded data removed]",
      "text/plain": [
       "<Figure size 314.126x144.48 with 1 Axes>"
      ]
     },
     "execution_count": 10,
     "metadata": {},
     "output_type": "execute_result"
    }
   ],
   "source": [
    "np.random.seed(seed=0)\n",
    "n = 100\n",
    "\n",
    "alice_bits = randint(2, size=n)\n",
    "alice_bases = randint(2, size=n)\n",
    "message = encode_message(alice_bits, alice_bases)\n",
    "\n",
    "bob_bases = randint(2, size=n)\n",
    "bob_results = measure_message(message, bob_bases)\n",
    "\n",
    "message[0].draw(output='mpl')"
   ]
  },
  {
   "cell_type": "markdown",
   "id": "6c800ec8",
   "metadata": {},
   "source": [
    "## Cleaning the Key\n",
    "Alice will share the bases she used to encode the message and Bob will share the bases he used to mesaure the message. Using this information, the two can keep the bits that correspond to the correctly guessed bases and ingore the rest. This leave Bob and Alice with their keys."
   ]
  },
  {
   "cell_type": "code",
   "execution_count": 24,
   "id": "4850409a",
   "metadata": {},
   "outputs": [],
   "source": [
    "def remove_garbage(a_bases, b_bases, bits):\n",
    "    clean_bits = []\n",
    "    \n",
    "    for q in range(n):\n",
    "        if a_bases[q] == b_bases[q]:\n",
    "            clean_bits.append(bits[q])\n",
    "   \n",
    "    return clean_bits"
   ]
  },
  {
   "cell_type": "markdown",
   "id": "c10df412",
   "metadata": {},
   "source": [
    "## Sampling the Keys\n",
    "Alice and Bob sample a random selection of bits from their key. If the bits match, then their keys are ready to use. If the keys do not match then Eve has measured the encoded message in transit."
   ]
  },
  {
   "cell_type": "code",
   "execution_count": 25,
   "id": "6bfb0dff",
   "metadata": {},
   "outputs": [],
   "source": [
    "def sample_bits(bits, selection):\n",
    "    sample = []\n",
    "    \n",
    "    for i in selection:\n",
    "        i = np.mod(i, len(bits)) # make sure i is in list range\n",
    "        sample.append(bits.pop(i))\n",
    "    return sample"
   ]
  },
  {
   "cell_type": "markdown",
   "id": "d20bc21b",
   "metadata": {},
   "source": [
    "## Simulating Key Exchange\n",
    "In this particular case, 100 qubits were used to generate a key size of only 33 after removing garbage."
   ]
  },
  {
   "cell_type": "code",
   "execution_count": 29,
   "id": "c43b0ddc",
   "metadata": {},
   "outputs": [
    {
     "name": "stdout",
     "output_type": "stream",
     "text": [
      "  Bob's sample = [0, 1, 0, 1, 1, 0, 0, 0, 0, 0, 0, 1, 0, 0, 0]\n",
      "Alice's sample = [0, 1, 0, 1, 1, 0, 0, 0, 0, 0, 0, 1, 0, 0, 0]\n",
      "Samples match: True\n"
     ]
    }
   ],
   "source": [
    "np.random.seed(seed=0)\n",
    "n = 100\n",
    "\n",
    "# Alice generates encoded message\n",
    "alice_bits = randint(2, size=n)\n",
    "alice_bases = randint(2, size=n)\n",
    "message = encode_message(alice_bits, alice_bases)\n",
    "\n",
    "# Bob measures using randomly generated bases\n",
    "bob_bases = randint(2, size=n)\n",
    "bob_results = measure_message(message, bob_bases)\n",
    "\n",
    "# Alice and Bob share the bases they used and clean their keys\n",
    "alice_key = remove_garbage(alice_bases, bob_bases, alice_bits)\n",
    "bob_key = remove_garbage(alice_bases, bob_bases, bob_results)\n",
    "\n",
    "sample_size = 15\n",
    "bit_selection = randint(n, size=sample_size)\n",
    "\n",
    "bob_sample = sample_bits(bob_key, bit_selection)\n",
    "print(\"  Bob's sample = \" + str(bob_sample))\n",
    "\n",
    "alice_sample = sample_bits(alice_key, bit_selection)\n",
    "print(\"Alice's sample = \"+ str(alice_sample))\n",
    "\n",
    "print(\"Samples match: \"+ str(bob_sample == alice_sample))"
   ]
  },
  {
   "cell_type": "code",
   "execution_count": 30,
   "id": "5defb700",
   "metadata": {},
   "outputs": [
    {
     "name": "stdout",
     "output_type": "stream",
     "text": [
      "[1, 1, 0, 1, 0, 0, 1, 0, 1, 1, 1, 0, 1, 1, 1, 0, 1, 0, 0, 1, 0, 0, 1, 1, 0, 0, 0, 1, 1, 0, 1, 0, 0]\n",
      "[1, 1, 0, 1, 0, 0, 1, 0, 1, 1, 1, 0, 1, 1, 1, 0, 1, 0, 0, 1, 0, 0, 1, 1, 0, 0, 0, 1, 1, 0, 1, 0, 0]\n",
      "key length = 33\n"
     ]
    }
   ],
   "source": [
    "print(bob_key)\n",
    "print(alice_key)\n",
    "print(\"key length = %i\" % len(alice_key))"
   ]
  },
  {
   "cell_type": "markdown",
   "id": "59b62218",
   "metadata": {},
   "source": [
    "## Simulating Key Exchange with Eve's Interference\n",
    "Here, the act of measuring the message as an eavesdropper has disrupted its quantum state. This is easily detected when comparing Alice and Bob's sample size. It will still be possible for Eve to go undetected, so it is important to sample a sufficent number of bits. Now that Alice and Bob know that their encoded message has been observed they can exchange new keys until they are satisfied no-one has seen their message."
   ]
  },
  {
   "cell_type": "code",
   "execution_count": 31,
   "id": "dc69f879",
   "metadata": {},
   "outputs": [
    {
     "name": "stdout",
     "output_type": "stream",
     "text": [
      "Eve's interference was detected.\n"
     ]
    }
   ],
   "source": [
    "np.random.seed(seed=3)\n",
    "n = 100\n",
    "\n",
    "# Alice generates encoded message\n",
    "alice_bits = randint(2, size=n)\n",
    "alice_bases = randint(2, size=n)\n",
    "message = encode_message(alice_bits, alice_bases)\n",
    "\n",
    "# Eve intercepts\n",
    "eve_bases = randint(2, size=n)\n",
    "intercepted_message = measure_message(message, eve_bases)\n",
    "\n",
    "# Bob measures message after interception\n",
    "bob_bases = randint(2, size=n)\n",
    "bob_results = measure_message(message, bob_bases)\n",
    "\n",
    "# Alice and Bob share the bases they used and clean their keys\n",
    "bob_key = remove_garbage(alice_bases, bob_bases, bob_results)\n",
    "alice_key = remove_garbage(alice_bases, bob_bases, alice_bits)\n",
    "\n",
    "# Alice and Bob sample their results and compare\n",
    "sample_size = 15 # Increasing the sample size reduces the likelihood of Eve going undetected\n",
    "bit_selection = randint(n, size=sample_size)\n",
    "\n",
    "bob_sample = sample_bits(bob_key, bit_selection)\n",
    "alice_sample = sample_bits(alice_key, bit_selection)\n",
    "\n",
    "if bob_sample != alice_sample:\n",
    "    print(\"Eve's interference was detected.\")\n",
    "else:\n",
    "    print(\"Eve was undetected\")"
   ]
  },
  {
   "cell_type": "code",
   "execution_count": null,
   "id": "7e26e342",
   "metadata": {},
   "outputs": [],
   "source": []
  }
 ],
 "metadata": {
  "kernelspec": {
   "display_name": "Qiskit (stable)",
   "language": "python",
   "name": "qiskit-stable"
  },
  "language_info": {
   "codemirror_mode": {
    "name": "ipython",
    "version": 3
   },
   "file_extension": ".py",
   "mimetype": "text/x-python",
   "name": "python",
   "nbconvert_exporter": "python",
   "pygments_lexer": "ipython3",
   "version": "3.9.12"
  }
 },
 "nbformat": 4,
 "nbformat_minor": 5
}
